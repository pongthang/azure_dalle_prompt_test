{
 "cells": [
  {
   "cell_type": "code",
   "execution_count": 1,
   "id": "3652bab5-41fa-4b4d-a23a-3e5f6e616377",
   "metadata": {},
   "outputs": [],
   "source": [
    "import os"
   ]
  },
  {
   "cell_type": "code",
   "execution_count": 2,
   "id": "c2942c37-c2af-4767-ab51-2b01d29d50f6",
   "metadata": {},
   "outputs": [
    {
     "name": "stdout",
     "output_type": "stream",
     "text": [
      "app.py\tdescriptions  interactive_debuggiing.ipynb  static  templates\n"
     ]
    }
   ],
   "source": [
    "!ls"
   ]
  },
  {
   "cell_type": "code",
   "execution_count": 12,
   "id": "5c7d89ec-8082-4db5-bb65-0bdc689e6d67",
   "metadata": {},
   "outputs": [],
   "source": [
    "IMAGE_FOLDER = \"./static/img\""
   ]
  },
  {
   "cell_type": "code",
   "execution_count": 14,
   "id": "d0341544-b570-42f0-a02b-23e9e7abc66b",
   "metadata": {},
   "outputs": [],
   "source": [
    "DESCRIPTION_FOLDER = 'descriptions'"
   ]
  },
  {
   "cell_type": "code",
   "execution_count": 20,
   "id": "ee9dc18e-a5c1-473e-b29e-08aff015c60b",
   "metadata": {},
   "outputs": [
    {
     "name": "stdout",
     "output_type": "stream",
     "text": [
      "1719370664.3364162\n",
      "generate\n",
      "1719370664.3324163\n",
      "cat fighting with a dog\n"
     ]
    }
   ],
   "source": [
    "for filename in os.listdir(IMAGE_FOLDER):\n",
    "    if filename.endswith(('.png', '.jpg', '.jpeg', '.gif')):\n",
    "        image_path = os.path.join(IMAGE_FOLDER, filename)\n",
    "        description_path = os.path.join(DESCRIPTION_FOLDER, f\"{filename.split('.')[0]}.txt\")\n",
    "        # print(image_path)\n",
    "        # print(description_path)\n",
    "        print(os.path.getctime(image_path))\n",
    "        if os.path.exists(description_path):\n",
    "            with open(description_path, 'r') as file:\n",
    "                description = file.read().strip()\n",
    "        else:\n",
    "            description = \"No description available.\"\n",
    "        print(description)"
   ]
  },
  {
   "cell_type": "code",
   "execution_count": null,
   "id": "d2bf9f3b-1c9f-4c33-af30-0a1f1e3bb845",
   "metadata": {},
   "outputs": [],
   "source": [
    "file.open('')"
   ]
  }
 ],
 "metadata": {
  "kernelspec": {
   "display_name": "Python 3 (ipykernel)",
   "language": "python",
   "name": "python3"
  },
  "language_info": {
   "codemirror_mode": {
    "name": "ipython",
    "version": 3
   },
   "file_extension": ".py",
   "mimetype": "text/x-python",
   "name": "python",
   "nbconvert_exporter": "python",
   "pygments_lexer": "ipython3",
   "version": "3.12.4"
  }
 },
 "nbformat": 4,
 "nbformat_minor": 5
}
